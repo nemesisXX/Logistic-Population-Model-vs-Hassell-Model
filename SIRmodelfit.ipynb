{
 "cells": [
  {
   "cell_type": "markdown",
   "metadata": {},
   "source": [
    "# SIR Model\n",
    "\n",
    "Let's start by considering how disease spread should be modelled. Excellent references include Murray (2002, Ch. 10, included on Classes in Resources/Handouts) and [Hethcote (2000)](https://www.maths.usyd.edu.au/u/marym/populations/hethcote.pdf).  \n",
    "\n",
    "To start with, we consider a closed population of size $N$, and define three classes of individuals:\n",
    "\n",
    "- $S(t) = $ number of susceptible individuals (susceptible to contracting the disease)\n",
    "- $I(t) = $ number of infectious individuals (able to transmit the disease)\n",
    "- $R(t) = $ number of removed individuals (not susceptible or infectious)\n",
    "\n",
    "The removed class includes individuals who have recovered from the disease (assuming recovery brings immunity), or died, as well as those who've been vaccinated.  \n",
    "\n",
    "How does transmission occur?  A virus like Covid19 spreads through the air, so transmission occurs mainly from close proximity to infected individuals, especially in unventilated spaces.  One of the the most challenging aspects of controlling Covid19 has been the fact that it spreds asymptomatically. In fact, *peak infectiousness occurs about two days before the onset of symptoms*.  Thus especially before this was understood, there was often no apparent reason to limit contact.\n",
    "\n",
    "In a typical day, humans have a typical number of contacts with other humans.  Epidemiologists talk about \"adequate contacts\", which mean contacts with others in sufficient proximity, and for long enough time, to make transmission of the disease likely.  Passing a security guard every day and saying hi is contact, but not likely adequate for transmission.  Sitting in a shared office with two others, however, likely is.  We thus define:\n",
    "\n",
    "$$a = [\\text{average number of adequate contacts per person, per unit time}]$$\n",
    "\n",
    "If all people in the population are equally likely to contact any other person$^\\dagger$, then \n",
    "\n",
    "$$a\\,\\frac{I}{N} = [\\text{average number of contacts with infectious individuals, per person, per unit time}]$$\n",
    "\n",
    "Thus\n",
    "\n",
    "$$ a\\,\\frac{I}{N}S = [\\text{average number of new infections in the population, per unit time}]$$\n",
    "\n",
    "So in a time $\\delta t$, we lose this many individuals from the susceptible group, i.e. \n",
    "\n",
    "$$S(t+\\delta t)-S(t) = -a\\,\\frac{I}{N}S\\, \\delta t$$\n",
    "\n",
    "This number now enters the infected pool, but to understand how the number of infectives changes in time, we must also consider the rate at which the are removed, through recovery or death (or vaccination, discussed later).  For Covid19, individuals are typically contagious for about $T_c = 12$ days.  You may not be fully recovered, but for the purposes of modeling disease spread, this is the number we care about. \n",
    "\n",
    "To be technical, we would model removal as an exponential Poisson process with an e-folding decay time of $T_c$.  In this case, \n",
    "\n",
    "$$\\frac{\\delta t}{T_c}I = [\\text{mean number of infetives removed in time} \\delta t]$$\n",
    "\n",
    "For convenience in the model, we define\n",
    "\n",
    "$$b = T_c^{-1} = [\\text{the inverse average removal time}]$$\n",
    "\n",
    "Thus in time $\\delta t$, the change in the infective pool is\n",
    "\n",
    "$$I(t+\\delta t)-I(t) = a\\,\\frac{I}{N}S\\, \\delta t - b I \\delta t$$\n",
    "and those removed enter the removed pool at the same rate, i.e.\n",
    "$$R(t+\\delta t)-R(t) = b I \\delta t$$\n",
    "\n",
    "The forms above make it obvious how to convert to differential equations: assume $S$, $I$ and $R$ are continuous real variables, divide each equation by $\\delta t$, and take the limit $\\delta t \\rightarrow 0$.  (But it is important to keep in mind how bad these assumptions may be in many cases!  Later, we will see how to use this form to model disease spread stochastically.). The result is the classic deterministic SIR model \n",
    "\\begin{align}\n",
    "\\dot{S} &= -aS\\frac{I}{N}\\\\\n",
    "\\dot{I} &= aS\\frac{I}{N} - bI\\\\\n",
    "\\dot{R} &= bI\n",
    "\\end{align}\n",
    "with initial conditions $S(0) = S_0$, $I(0) = I_0$ and $R(0) = R_0$.  \n",
    "\n",
    "Notes: \n",
    "- By design, the total population (including the dead) is constant, because \n",
    "$$\\dot{S}+\\dot{I}+\\dot{R} = \\frac{d}{dt} (S+I+R) = 0 \\quad \\Rightarrow \\quad S+I+R = \\text{constant} = N$$\n",
    "\n",
    "- The model does not depend on $R$, which can always be recovered from $S$ and $I$ using $R = N-S-I$.  Thus it is actually a 2-dimensional dynamical system. \n",
    "\n",
    "**Question:** how you would modify this model to include separate compartments for dead and recovered populations?  How about vaccinated people?\n",
    "\n",
    "**Question:** News and government agencies often show graphs of \"daily new cases\" (the number of new positive cases per day).  Using variables from the model, what is this quantity?\n",
    "\n"
   ]
  },
  {
   "cell_type": "markdown",
   "metadata": {},
   "source": [
    "## Nondimensional numbers and criterion for an outbreak\n",
    "\n",
    "\n",
    "### Basic reproduction number $\\sigma$\n",
    "\n",
    "Consider first a reasonable initial condition with one infective, and the entire population susceptible, i.e. $I_0=1$, $S_0 = N-1 \\approx N$.  The growth of the infective population at the start is then\n",
    "\n",
    "$$\\dot{I}(0) = a\\frac{I_0}{N}S_0 -  b\\,I_0 = b\\left(\\sigma - 1\\right)$$\n",
    "\n",
    "where\n",
    "\n",
    "$$\\sigma \\equiv \\frac{aS_0}{bN}$$\n",
    "\n",
    "is called the \"basic reproduction number\" (typically this is represented with the symbol $R_0$, but here I wish to avoid confusion with the initial condition for $R$). If $\\sigma >1$, then at early times, $I$ grows exponentially: this is the condition for an epidemic.  \n",
    "\n",
    "It's easier to understand what $\\sigma$ represents if we consider the equation for $I$ with finite $\\delta t$.  Then\n",
    "\n",
    "$$I(\\delta t)-1 = \\frac{aS_0}{N}\\, \\delta t - b\\,\\delta t \n",
    "= b\\,\\delta t\\left(\\sigma - 1\\right)$$\n",
    "\n",
    "where\n",
    "\n",
    "$$\\sigma = \\frac{a\\,\\delta t\\, S_0/N }{b\\,\\delta t} \n",
    "= \\frac{\\text{number of new infectives}}{\\text{number of removed infectives}}$$\n",
    "\n",
    "So the basic reproduction number $\\alpha$ is the average number of additional infectives in the population per infective. Studies estimate that **for Covid19, $\\sigma \\approx 2.2$**.  \n",
    "\n",
    "### Replacement number $r_t$\n",
    "\n",
    "The replacement number is the time-dependent version of $\\sigma$: it is the average number of additional infectives per infective at any time during the epidemic, i.e.\n",
    "\n",
    "$$r_t = \\frac{aS(t)}{bN}$$\n",
    "\n",
    "Note that $r_t(0) = \\sigma$, but because $S(t)$ is always decreasing, $r_t(t>0) < \\sigma$. When we reach the point where $r_t<1$, the rate of change of the infective population is negative, and things are getting better.\n",
    "\n",
    "\n",
    "**Question** with time-series for $I$ and $R$, how might you estimate $r_t$ at some time without knowing $a$, $b$ or $N$?  \n",
    "\n"
   ]
  },
  {
   "cell_type": "markdown",
   "metadata": {},
   "source": [
    "## Herd immunity\n",
    "\n",
    "From the above, herd immunity happens when $r_t<1$, or \n",
    "\n",
    "$$\\frac{S}{N} < \\frac{b}{a} = \\frac{1}{\\sigma}$$\n",
    "\n",
    "if $S_0 \\approx N$.  \n",
    "\n",
    "What is the total fraction of the population that is immune at this point?  For this purpose, immunity includes the entire removed population, including those vaccinated, plus those who are currently sick (you can't catch it if you already have it), i.e.\n",
    "\n",
    "$$\\text{Immune fraction of population} = \\frac{R + I}{N} = 1 - \\frac{S}{N}$$\n",
    "\n",
    "Setting $S/N$ to the critical value $1/\\sigma$ at which $r_t=1$, it must be the case that we need \n",
    "\n",
    "$$\\text{Immune fraction of population} > \\frac{R + I}{N} = 1 - \\frac{1}{\\sigma}$$\n",
    "\n",
    "So \n",
    "\n",
    "$$\\text{Herd immunity population fraction} = 1 - \\frac{1}{\\sigma}$$\n",
    "\n",
    "For Covid19, with $\\sigma \\approx 2.2$, the fraction is $\\approx .55$ (which is quite a bit lower than what Dr Fauci told us, but looking at the current numbers in the US, seems to be about right)"
   ]
  },
  {
   "cell_type": "markdown",
   "metadata": {},
   "source": [
    "## Fixed points and stability\n",
    "\n",
    "\n",
    "For the stability analysis, it's useful to partially nondimensionalze the equations by dividing by $N$. Ignoring $R$ for now, and defining the population fractions with lower-case letters as $s(t) = S(t)/N$ and $\\imath(t) = I(t)/N$, the equations are\n",
    "\\begin{align}\n",
    "\\dot{s} &= -a\\,s\\imath\\\\\n",
    "\\dot{\\imath} &= (a\\,s - b)\\,\\imath\n",
    "\\end{align}\n",
    "\n",
    "The obvious fixed points of this system are $\\imath = 0$, with any value of $s$.  The obvious interesting choice is to consider an initally healthy population with $s(0) = 1$, i.e. we consider the fixed point $(1,0)$.  The Jacobian at this point is\n",
    "$$J = \\begin{bmatrix} -a\\imath & -a s \\\\ a\\imath & as-b \\end{bmatrix}_{(1,0)} \n",
    "= \\begin{bmatrix} 0 & -a  \\\\ 0 & a-b \\end{bmatrix}$$\n",
    "\n",
    "The eigenvalues are \n",
    "\n",
    "$$\\lambda = \\frac{a-b}{2}\\pm\\sqrt{\\left(\\frac{a-b}{2}\\right)^2-0} ~ = ~ a-b \\quad\\text{or}\\quad 0$$\n",
    "\n",
    "Since here $S_0=N$, the fraction $a/b = \\sigma$, and we have the expected result that if $\\sigma>1$, the fixed point at the origin is unstable.  \n",
    "\n",
    "To compute the phase plane trajectories, note that\n",
    "\n",
    "$$\\frac{\\dot{\\imath}}{\\dot{s}} = \\frac{d\\imath}{ds} = -1 + \\frac{1}{s\\sigma}$$\n",
    "\n",
    "**Question:** What does the phase plane look like?\n",
    "\n",
    "**Question:** What is the peak fraction of infectives, $\\imath_\\text{max}$? When does this occur?\n"
   ]
  },
  {
   "cell_type": "markdown",
   "metadata": {},
   "source": [
    "## Numerical model\n",
    "\n",
    "Below we use a numerical ODE integrator to solve the SIR system."
   ]
  },
  {
   "cell_type": "code",
   "execution_count": 6,
   "metadata": {},
   "outputs": [],
   "source": [
    "import numpy as np\n",
    "from scipy.integrate import odeint\n",
    "import matplotlib.pyplot as plt"
   ]
  },
  {
   "cell_type": "code",
   "execution_count": 7,
   "metadata": {},
   "outputs": [],
   "source": [
    "# The SIR model differential equations.\n",
    "def SIRdot(Y, t, N, a, b):\n",
    "    S, I, R = Y\n",
    "    dSdt = -a * S * I/N \n",
    "    dIdt = a * S * I/N  - b * I\n",
    "    dRdt = b * I\n",
    "    \n",
    "    return dSdt, dIdt, dRdt\n"
   ]
  },
  {
   "cell_type": "code",
   "execution_count": 8,
   "metadata": {},
   "outputs": [
    {
     "data": {
      "text/plain": [
       "<matplotlib.legend.Legend at 0x7ffa1e397d00>"
      ]
     },
     "execution_count": 8,
     "metadata": {},
     "output_type": "execute_result"
    },
    {
     "data": {
      "image/png": "iVBORw0KGgoAAAANSUhEUgAAAYsAAAEGCAYAAACUzrmNAAAAOXRFWHRTb2Z0d2FyZQBNYXRwbG90bGliIHZlcnNpb24zLjMuMiwgaHR0cHM6Ly9tYXRwbG90bGliLm9yZy8vihELAAAACXBIWXMAAAsTAAALEwEAmpwYAABTv0lEQVR4nO3deVhU97348fcwM8ywr6Igq4KIgCC4xg3FNQveqFGjJmaxtjFNkyc3bXOvT9u0v/Zqb5PbmNQ2tYlbTELMUknUkMSFaNwXXBBEFEbZBNkZ9pk5vz+OTCSyCwzL9+Vznpk5c5bPF2E+c853U0iSJCEIgiAIrbCydACCIAhC7yeShSAIgtAmkSwEQRCENolkIQiCILRJJAtBEAShTSpLB9Bd3N3d8ff379S+VVVV2NnZdW1AvZwo88Aw0Mo80MoL919mnU5HUVHRPev7bbLw9/fnzJkzndo3KSmJmJiYrg2olxNlHhgGWpkHWnnh/ss8duzYZteL21CCIAhCm0SyEARBENokkoUgCILQJpEsBEEQhDZ1W7J45pln8PDwICwszLyupKSE2bNnExQUxOzZsyktLTW/t379egIDAwkODubrr782rz979izh4eEEBgbyi1/8AjGUlSAIQs/rtmTx1FNPkZiY2GTdhg0biI2NJSMjg9jYWDZs2ABAamoq8fHxXL58mcTERNauXYvRaATgueeeY/PmzWRkZJCRkXHPMQVBEITu123JYtq0abi6ujZZl5CQwKpVqwBYtWoVu3fvNq9ftmwZGo2GgIAAAgMDOXXqFPn5+VRUVDBp0iQUCgVPPvmkeR9BEASh5/RoP4uCggI8PT0B8PT0pLCwEIDc3FwmTpxo3s7b25vc3FzUajXe3t73rG/J5s2b2bx5MwA5OTkkJSV1KD6jEfbu9cLKypHjxy9hY2PA3t6IvX0DDg4GbG2NKBQdOmSfodfrO/zz6utEmfu/gVZe6L4y94pOec3VQygUihbXt2TNmjWsWbMGkDuWdLRjSnk5HDki92C0t/enrg7Kyn54X60GNzcYNEhePD3lxd6+Q6fplUTnpYFhoJV5oJUXuq/MPZosBg8eTH5+Pp6enuTn5+Ph4QHIVwzZ2dnm7XJycvDy8sLb25ucnJx71ncXOztYswb27y9k5Eh/KirkBFJaKi9VVXDrlrzczdERfH3lxc8PPDzot1cggiAMTD2aLOLi4ti+fTuvvvoq27dvZ8GCBeb1y5cv5+WXXyYvL4+MjAzGjx+PUqnEwcGBEydOMGHCBHbs2MELL7zQbfGpVODlBb6+1Ywff+/7NTVQVCQvBQWQny8njooKSEmRFwAHBwgMhKAgeVGruy1kQRCEHtFtyeLxxx8nKSmJoqIivL29+f3vf8+rr77KkiVLeO+99/D19eWTTz4BIDQ0lCVLljBq1ChUKhWbNm1CqVQC8I9//IOnnnqKmpoa5s+fz/z587sr5DbZ2ICPj7w0kiQ5edy8KS+ZmVBZCcnJ8mJtDcHBEB4uJxAr0bNFEIQ+qNuSxUcffdTs+gMHDjS7ft26daxbt+6e9WPHjiWl8St7L6RQ/FCHER0tJ4/CQsjIgLQ0yM2FS5fkxclJ3iYqqn/UcwiCMHD0igru/kShgMGD5WXKFLmuIyVFvsooKYGDB+G772DMGPl9Z2dLRywIgtA2kSy6mYsLTJ0qJ4bMTDh9GtLT4cwZOYFERsKMGeJKQxCE3k0kix6iUMDw4fJy+7bcRPfSJTh7Vr7yiImB8ePhTlWNIAhCryKqWy1g0CBYuBCef16u/K6rg6+/hnfegbtaCguCIPQaIllYkLs7PP44rFgBrq7yFceWLXKdhslk6egEQRB+IG5D9QJBQRAQIFd+HzsGhw7BtWuweLHcgkoQhP7BJJkwmowYTAaMkhGjyXjPo0ky3fPcJJmaLI3v3b1ISJgkE+fLzjO6ZjSuNq5tB9QBIln0EioVzJkj98XYvRuys+Ff/4Jly+Cu4bEEQegGJslEnaGOemM9dUb58e6lwdggP5oaaDA23PNoMBkwmAw0mH54bjAZzImhcZHo/ikWdGU6Hq55WCSL/m7YMPjZz+CTTyArC7ZtgwUL5E59giC0zGAyUN1QTXVDNTUNNdQYakivTEd1U0VNQw21htp7ljpjHXWGOhpMDT0SowIFKisVSislSoWy2UcrhdU9z60UVualcf3diwKFeb1TqRMuWpcuj10ki17I1hZWroSvvpKb2H72mTykyOTJlo5MEHqWSTKhr9dTWVdJZX0llXWV6Ov16Ov1VDVUUVVfZX6sM9bds7+uWEd+Zn6b51GgQKPSYK20RqOUH9VKNRqlBrVSjbXSWl5npUatVDd5VFmpUCvvPN55ffeitFKan1spur+a2OqGFW62bl1+XJEseimlEh56SG45lZgI334rD6E+bZqlIxOErlNnqKOstozS2lLKassory2nvK6c8tpyKuoq0Nfr233rxkphha3a1rzYqGxQF6kZ7zMerUqLjdoGrUprXjRKjfyo0qC2Urc6orUgkkWvplDAhAmg0UBCglwBbjLJfTIEoa9oMDZQVF1EcU0xxdXFFNcUU1JTQmlNKVUNVa3uq0CBvbU9jhpHHKwdsLe2Ny921nbyo9oOO2s7NErNPR/4SUVJxAyP6cbSDRwiWfQBkZHyAIT//jckJcmV4VOmWDoqQWjKaDJSVF1EQVUBBfoCblff5nbVbcpqy1q8OlBZqXDWOuOidcFZ64yT1glnrTOOGkecNE7YW9ujtBI9VXsDkSz6iNGj5SuNzz+H/fvlJrWi0luwFIPJQIG+gNzKXPIr87mlv0VhVSFGyXjPtkqFElcbV9xs3XC3dZef27jhauOKvbW9uP3TR4hk0YeEh4NeL/f23r1bnnTJz8/SUQkDQUVdBdnl2WRXZJNdns0t/a17EoMCBa42rgyxH4KHnYd5cdG6iKuDfkAkiz5m4kR5JNtTpyA+Hp59Vu4JLghdqaKugqzSLHRlOnRlOkprS5u8r0DBINtBeDl44eXghaeDJ0Psh2CttLZQxEJ3E8mij1EoYN48ebrX9HTYtQtWr5YnWRKEzmowNqAr05FRkkFmaSZF1UVN3tcoNfg4+eDj6IOPkw9DHYaiUWksFK1gCSJZ9EFWVrBoEWzeLE+0tG8f/Md/WDoqoa+prKskvTidK0VX0JXpMJgM5vesldb4O/sT4ByAn7MfQ+yH9EgfAaH3Esmij7K2hsceg3ffhfPnwd9fbjUlCK3RG/Qcyz7G5cLL5FbmNnnPy8GLINcghrsOZ6jDUFHPIDQhkkUfNngwPPig3Adj717w8gIPD0tHJfQ2VfVVpBSmcKnwEt/nfI+/yh8AtZWa4a7DCXYLJsgtCHtrMQOX0DKRLPq4yEi4cUO+uvj3v+X6CzGBkmA0GblafJXkW8lcK7mGSZLHvFcpVIR5hDFq0CiCXINQK9UWjlToK0Sy6OMUCvnqQqeD/Hx5iPOpUy0dlWApZbVlnM07S/KtZPT1ekAeBiPINYiIIRHkm/KZPWq2haMU+iKRLPoBa2uIi4MdO+Qe3iNHymNKCQODJElklWVxKvcU6UXp5t7Sg2wHEeUZRfjgcPMtpiKrotYOJQgtEsminxg2DKKi4Nw5uQ7jmWfkVlNC/2U0GUkpTOFY9jEKqgoAubd0qEcoY73G4uPoI3pHC11GJIt+ZM4ceYa9nBy5097EiZaOSOgODcYGzuWf41j2McrrygFwsHZg3NBxRHlGiYpqoVuIZNGPaLXysOYffSRPzRoWBvbic6PfaDA2cDb/LEdvHqWyvhKQbzU94PMA4YPDUVmJP2eh+4jfrn4mOFie0zsjQx7SPC7O0hEJ98skmTh/6zxJuiQq6ioA8LT3ZJrfNEa6jxS3moQeIZJFPzR3Lly/DsnJMHas3P9C6HskSeJq8VW+zfzWPPzGEPshzPCfwQi3ESJJCD1KJIt+yN1dnjTp+HF5lr2nn5ab2Ap9R2FVIYnXEskszQTARevCzICZhHmEiSQhWIRIFv3U9Olw8SLcvAkpKWLui76izlDHId0hTuWewiSZ0Kq0xPjHMM5rnBh+Q7AokSz6Ka0WYmPhiy/kuotRo0TP7t5MkiSuFF1hX8Y+KusrUaBgnNc4ZgTMwFZta+nwBEEki/4sMlLu0V1U9EP9hdD76Ov17Lm6hytFVwAY6jCUR4IfYYj9EAtHJgg/sEi3rb/+9a+EhoYSFhbG448/Tm1tLSUlJcyePZugoCBmz55NaekPk62sX7+ewMBAgoOD+frrry0Rcp9kZQUxMfLzw4fBYGh1c6GHSZLEpYJLbDq1iStFV9AoNTwU9BDPRj0rEoXQ6/R4ssjNzeWtt97izJkzpKSkYDQaiY+PZ8OGDcTGxpKRkUFsbCwbNmwAIDU1lfj4eC5fvkxiYiJr167FaLx3nl+heaGhMGQIVFTAmTOWjkZoVNNQwyepn/BZ2mfUGGoIdA3k+fHPM27oODFvhNArWeS30mAwUFNTg8FgoLq6Gi8vLxISEli1ahUAq1atYvfu3QAkJCSwbNkyNBoNAQEBBAYGcurUKUuE3ScpFDBjhvz8yBGor7dsPALoynT848w/SL2dikapIS44jhXhK3DUOFo6NEFoUY/XWQwdOpRXXnkFX19fbGxsmDNnDnPmzKGgoABPT08APD09KSwsBOQrkYl3jVvh7e1Nbm5us8fevHkzmzdvBiAnJ4ekpKROxajX6zu9b28kSaDXe6LTaXjnnVJGjy6/Z5v+Vub26OkymyQTF8oucLH8IhISgzSDiHaPpiK9gu/Sv+uRGAba//NAKy90X5l7PFmUlpaSkJBAVlYWzs7OPPbYY+zcubPF7SVJumddS+3M16xZw5o1awAYO3YsMY037DsoKSmp0/v2Vr6+8P77UFvrz+TJoP7RNAb9scxt6ckyV9VX8VnaZ5QryvF38Wea3zSm+U3r8eawA+3/eaCVF7qvzD2eLPbv309AQACD7oyhvXDhQo4dO8bgwYPJz8/H09OT/Px8PO5M+ebt7U12drZ5/5ycHLxEl+QOGzYMhg6F3Fy5ZdT48ZaOaODIqchh1+VdVNRVYKe2Y/GoxQS4BFg6LEHokB6vs/D19eXEiRNUV1cjSRIHDhwgJCSEuLg4tm/fDsD27dtZsGABAHFxccTHx1NXV0dWVhYZGRmMF590HaZQwJQp8vNjx0C0EegZF25dYGvyVirqKvBx9OGnY38qEoXQJ/X4lcWECRNYvHgxUVFRqFQqxowZw5o1a9Dr9SxZsoT33nsPX19fPvnkEwBCQ0NZsmQJo0aNQqVSsWnTJpSid1mnjBwpDwVSVASXL8Po0ZaOqP+SJIkDWQf4/ub3AIzzGse8wHmiF7bQZ1mkU97vf/97fv/73zdZp9FoOHDgQLPbr1u3jnXr1vVEaP2aQgGTJ8uTI33/vTwEiBhmqOs1GBv4LO0zrhRdwUphxfzA+YwbOs7SYQnCfRENugeY8HBwdITCQnkYc6FrVTdUs+PCDq4UXUGr0rJy9EqRKIR+QSSLAUalgkmT5OdHj1o2lv6mrLaMLclbyK7IxknjxLNjnmWYyzBLhyUIXUIkiwEoKgo0GrhxA/LzLR1N/1BYVch7596jqLqIwXaDWR21mkF2gywdliB0GZEsBiCNBsaMkZ+fPGnZWPqD/Mp8tp3fRmV9Jf7O/jw95mkcNA6WDksQupRIFgPU+PFy5falS1BVZelo+q6cihy2X9hOdUM1Qa5BrAhfgValtXRYgtDlRLIYoFxd5bm6jUY4e9bS0fRN2eXZ7Liwg1pDLaMGjWJZ2DLUSnXbOwpCHySSxQDWOOTW6dOik15H5VbksvPiTuqN9YR7hLN41GLRh0Lo10SyGMACAmDQIKishBs37CwdTp+RX5nP+xffp85YR+igUB4NeVQMKy70e+I3fABTKGDCBPl5WpqokG2P21W3ef/i+9QaaglxD2FhyEKRKIQBQfyWD3CjR8uto27f1lJQYOloerfy2nLev/g+1Q3VjHAbIW49CQOKSBYDnLU1RETIz8VMei2rbqjm/YvvU1FXga+TL4+NekwkCmFAEclCIDpafrx4Ucyk15x6Yz0fXvrQ3OHu8bDHRasnYcARyUJg8GAYNKiWujpISbF0NL2LSTLxedrn5FTk4Kx1ZuXoldiobSwdliD0OJEsBACCg/WAuBX1Y/sz9zcZFFD0zBYGKpEsBAD8/avQaiEvT4wX1ehM3hmOZR/DSmHF0tCluNu6WzokQbAYkSwEAFQqichI+bm4uoDM0kz2ZewDIC44TsxuJwx4IlkIZo0V3ZcuDeyK7tKaUj65/AkmycRU36lEDom0dEiCYHEiWQhmgwaBj4+cKFJTLR2NZdQb64lPiafGUMMItxHMCJhh6ZAEoVcQyUJoonHo8uRky8ZhCZIkkXAlgYKqAtxs3ETvbEG4i/hLEJoIDQW1Wp4YqbjY0tH0rBM5J7h8+zIapYZlYcvEUOOCcBeRLIQmNBo5YcDAurrILs/m28xvAfiPkf8hZrkThB8RyUK4R1SU/HjhAphMlo2lJ1Q3VPNJqlyhPcl7EiGDQiwdkiD0OiJZCPfw8QE3N3no8mvXLB1N95Ikic/TPqeirgIfRx9mDZtl6ZAEoVcSyUK4h0IxcCq6j2Uf41rJNWzVtmIUWUFohUgWQrMiIuSkcfUqVFdbOpruUVRXxIGsA4BcT+GkdbJwRILQe4lkITTLwQECA+XpVi9dsnQ0Xa/eWM/hosOYJBMThk5ghNsIS4ckCL2aSBZCixrnuTh/3qJhdIvEa4lUNFTgYefB7OGzLR2OIPR6IlkILRo5ErRaeWDBwkJLR9N1rhRd4Vz+OZQKJYtHLUZlpbJ0SILQ64lkIbRIpYKwMPl5f7m6qKqv4sv0LwGIdonGw87DwhEJQt8gkoXQqsZbURcv9v0+F5IksTdjL1UNVQQ4BxDiIPpTCEJ7ietvoVXe3nKfi+JiuH4dgoIsHVHnpRSmkHo7FY1Sw4KRCzh/4rylQxLuaGhoICcnh9ra2i49rpOTE2lpaV16zN6uvWXWarV4e3ujVrdviuB2JYu6ujo+++wzdDodBoPBvP63v/1tu07yY2VlZaxevZqUlBQUCgVbtmwhODiYpUuXotPp8Pf3Z9euXbi4uACwfv163nvvPZRKJW+99RZz587t1HmFjlMoIDISDhyQb0X11WRRWVdpnp9ibuBcnLXOlg1IaCInJwcHBwf8/f1RKBRddtzKykocHAbW7IbtKbMkSRQXF5OTk0NAQPvmamnXbagFCxaQkJCASqXCzs7OvHTWiy++yLx587hy5QoXLlwgJCSEDRs2EBsbS0ZGBrGxsWzYsAGA1NRU4uPjuXz5MomJiaxduxaj0djpcwsdN3q0nDTS06GLv/j1mH0Z+6gx1BDkGsSYIWMsHY7wI7W1tbi5uXVpohBaplAocHNz69CVXLuuLHJyckhMTOx0YHerqKjg8OHDbNu2DQBra2usra1JSEggKSkJgFWrVhETE8Of//xnEhISWLZsGRqNhoCAAAIDAzl16hSTJk3qkniEtjk5QUAAZGbC5cs/TJLUV6TeTiWtKA2NUsMjwY+ID6ReSvy/9KyO/rzblSweeOABLl26RHh4eKeCultmZiaDBg3i6aef5sKFC0RHR7Nx40YKCgrw9PQEwNPTk8I7bTVzc3OZOHGieX9vb29yc3ObPfbmzZvZvHkzICe4xuTTUXq9vtP79lVtlbm+3g6dbhAff1xLZeWtngvsPtUZ69idt5saYw0TXSdy7vg583vi/7n3cHJyorKyssuPazQau+W4vVlHylxbW9vu34d2JYvvv/+ebdu2ERAQgEajQZIkFAoFFy9ebNdJ7mYwGDh37hxvv/02EyZM4MUXXzTfcmqOJEn3rGspI65Zs4Y1a9YAMHbsWGJiYjocH0BSUlKn9+2r2irzAw9AQQE0NMDo0SNxde252O5HwpUEBisH4+vky9ORTzf53RH/z71HWlpat9QtdKTO4k9/+hMffvghSqUSKysr/vnPfzJhwoQuj6kt58+fJy8vjwcffBCAL774gtTUVF599VWeeuopHn74YRYvXtxkn6SkJF5//XX27NnToTJrtVrGjGnfbdl2JYuvvvqqXQdrD29vb7y9vc3/CYsXL2bDhg0MHjyY/Px8PD09yc/Px8PDw7x9dna2ef+cnBy8vLy6LB6hfaytYdQoedjyixehF37e3COrNIvkW8koFUriguPEbQ6hRcePH2fPnj2cO3cOjUZDUVER9RaaiP78+fOcOXPGnCzi4uKIi4uzSCx3a1cFt5+fH2VlZXz55Zd8+eWXlJWV4efn16kTDhkyBB8fH9LT0wE4cOAAo0aNIi4uju3btwOwfft2FixYAMg/qPj4eOrq6sjKyiIjI4Px48d36tzC/Wnsc3HhAjRzwderGEwG9lzdA8B0/+m427pbOCKhN8vPz8fd3R2NRgOAu7s7Xl5e+Pv7U1RUBMCZM2fMV2XfffcdkZGRREZGMmbMGPNtn//93/8lPDyciIgIXn31VQCuX7/OvHnziI6OZurUqVy5cgWAp556ip/97GdMnTqVESNGsGfPHurr6/ntb3/Lxx9/TGRkJB9//DHbtm3j5z//uTnW/fv3N9nnx6qqqnjmmWcYN24cY8aMISEhoUt+Ru26sti4cSP/+te/WLhwIQArV65kzZo1vPDCC5066dtvv82KFSuor69n2LBhbN26FZPJxJIlS3jvvffw9fXlk08+ASA0NJQlS5YwatQoVCoVmzZtQqkUw0hbgr8/ODpCaSlkZ4Ovr6Ujatmx7GMU1xTjbuvOZJ/Jlg5H6IDXXuu6Y9XVWXPn87/V486ZM4c//OEPjBgxglmzZrF06VKmT5/e4vavv/46mzZtYvLkyej1erRaLV999RW7d+/m5MmT2NraUlJSAsi3x9955x2CgoI4efIka9eu5eDBgwDodDq+++47rl+/zowZM7h27Rp/+MMfOHPmDH/7298AzI2BGjW3z49jmzlzJlu2bKGsrIzx48cza9as+2rBCu1MFu+99x4nT540n+zXv/41kyZN6nSyiIyM5MyZM/esP3DgQLPbr1u3jnXr1nXqXELXsbKSm9F+/718ddFbk0VpTSmHbxwG4KGgh8QcFUKb7O3tOXv2LEeOHOHQoUMsXbq01brUyZMn8/LLL7NixQoWLlyIt7c3+/fv5+mnn8bW1hYAV1dX9Ho9x44d47HHHjPvW1dXZ36+ZMkSrKysCAoKYtiwYearjta0tc/BgwdJTEzk9ddfB+RK7Js3bxIScn8jFrQrWUiS1OTbvFKpbLbiWej/GpPF5cswf748flRvIkkS+zL2YTAZGD14NAEu7etwJPQeXXllUVlZj4ODpl3bKpVKYmJiiImJITw8nO3bt6NSqTDdGefm7j4Jr776Kg899BD79u1j4sSJ7N+/39zw524mkwlnZ2fOtzC42o+3b0+9Wlv7SJLEZ599RnBwcJvH6oh21Vk8/fTTTJgwgddee43XXnuNiRMn8uyzz3ZpIELf4OEBXl5y57w71U69ypWiK2SUZKBVaZkzfI6lwxH6iPT0dDIyMsyvz58/j5+fH/7+/pw9exaAzz77zPz+9evXCQ8P59e//jVjx47lypUrzJkzhy1btlB9Z7awkpISHB0dCQgIMN9WlySJCxcumI/zySefYDKZuH79OpmZmQQHB+Pg4NBq09fm9rlbbGwsb7/9tvkLfXIXTXfZrmTx8ssvs3XrVlxdXXFxcWHr1q289NJLXRKA0PfcXdHdmzQYG0i8JncejQ2Ixd7a3sIRCX2FXq9n1apVjBo1itGjR5Oamsprr73G7373O1588UWmTp3a5O7Km2++SVhYGBEREdjY2DB//nzmzZtHXFwcY8eOJTIy0nwb6IMPPuC9994jIiKC0NDQJhXOwcHBTJ8+nfnz5/POO++g1WqZMWMGqamp5gruH2tun7v96le/oqGhgdGjRxMWFsZvfvObLvkZKaRW7idVVFTg6Ohorqj5Mdde3Nh+7NixzdaLtEdvbYvenTpS5qoqeOMN+fnLL4N9L/lMTtIlkaRLYoj9ENZEr8FK0fp3IfH/3HukpaXd9z315vTmsaFa6jNxvzpS5uZ+7i19drZ6x3n58uXs2bOH6OjoJvfFGu/NZWZmtisgoX+xs5MHFExPl6dc7Q0jr5TVlvH9ze8BmB84v81EIQhCx7SaLBrb8GZlZfVIMELfEREhJ4sLF3pHsvj62tcYTAbCPcLxc+5cHyBB6Ek/bhLb27Xr61dsbGy71gkDx4gRYGMDt27Jw4BYUmZpJmlFaVgrrcV82oLQTVpNFrW1tZSUlFBUVERpaSklJSWUlJSg0+nIy8vrqRiFXujuKVctWdFtkkx8fe1rAKb6TsVR42i5YAShH2v1NtQ///lP3nzzTfLy8oiOjjY3xXJ0dOT555/vkQCF3isiAk6flseKmjVL7rTX05LzkymoKsBZ68wkn15wP0wQ+qlWk8WLL77Iiy++yNtvv93p3tpC/zV0KLi7Q1ERXLsm35rqSXWGOg5mycMmzBo2C5VVL+shKAj9SLv+ul544QVSUlJITU1t0ovxySef7LbAhN6vccrV/fvlKVd7OlkcuXmEqoYqfBx9CB0U2rMnF/ode3t79Hp9q9scOXKEn/3sZ6jVao4fP46NjU27j797925GjBjBqFGjujyuntCuGwe///3veeGFF3jhhRc4dOgQv/rVr/jiiy+6OzahD7h7ytU7HVd7RFltGSdyTgDynNpi+HGhJ3zwwQe88sornD9/vkOJAuRkkZqa2k2Rdb92JYtPP/2UAwcOMGTIELZu3cqFCxeaDIYlDFyOjjB8OBiNkJLSc+c9kHnA3FTW29G7504s9HuNHRcXL17MyJEjWbFiBZIk8e6777Jr1y7+8Ic/sGLFCgD+8pe/MG7cOEaPHs3vfvc78zF27NjB6NGjiYiI4IknnuDYsWN88cUX/PKXvyQyMpLr16+3OHR5VlYWkyZNYty4cV3W+7ortOs2lI2NDVZWVqhUKioqKvDw8BAd8gSzyEi5ziI5GXpiqpG8yjwuFV5CqVASO0w04e5vXuvCkQTr6urMc1R05LjJyclcvnwZLy8vJk+ezNGjR1m9ejXff/+9udf1N998Q0ZGBqdOnUKSJOLi4jh8+DBubm786U9/4ujRo7i7u1NSUoKrqytxcXFNemzHxsY2O3T5iy++yHPPPceTTz7Jpk2buuxncb/alSzGjh1LWVkZP/nJT4iOjsbe3l5MQCSYjRwJWi3k58t9LgYP7r5zSZLEt9e/BWCC9wSctc7ddzJhwBo/fjze3vIVa2RkJDqdjilTpjTZ5ptvvuGbb74xT0uq1+vJyMjgwoULLF68GHd3ecKt5oZFam3o8qNHj5oHLXziiSf49a9/3fUF7IR2JYu///3vAPzsZz9j3rx5VFRUMHr06G4NTOg7VCoID5eb0Z4/D3Pndt+5rpVcI6ssCxuVDVN9p3bfiQSL6cori86ODdV4NQLy0OUGg+GebSRJ4r/+67/46U9/2mT9W2+91WYdWkeHLu8NWq2zOHfu3D1LSUkJBoOBc+fO9VSMQh8QGSk/Xrwo1190B5NkYn/mfgCm+k3FRt2xCkZB6Epz585ly5Yt5pZKubm5FBYWEhsby65duyguLgYwD8R699DjrQ1dPnnyZOLj4wG5Qr23aPXK4j//8z9bfE+hUJinBhQELy95rovCQrh6FbphAFEuFlykoKoAJ40T44eK26CCZc2ZM4e0tDQm3Rkczd7enp07dxIaGsq6deuYPn06SqWSMWPGsG3bNpYtW8ZPfvIT3nrrLT799FM++OADnnvuOf74xz/S0NDAsmXLiIiIYOPGjSxfvpyNGzeyaNEiC5fyB60OUd6XiSHKO6YrynziBCQmyiPS3mks0mUMJgNvn3yb8rpyHh35KBFDIu77mOL/ufcYiEOUdxeLDFHeaMeOHc2uF53yhLuNHg3ffiu3jCovByenrjv2mbwzlNeVM9huMKMHi/oyQehp7UoWp0+fNj+vra3lwIEDREVFiWQhNGFrK99+SkmRK7qnT++a49YZ6jh84zAAscNie2XlnyD0d+1KFm+//XaT1+Xl5TzxxBPdEpDQt0VFycni3DmYOrVrBhc8nnOc6oZqfJ18CXINuv8DCoLQYZ36U7a1tW0yubkgNAoIABcX+TZUV/TbrKqv4lj2MUAeLFBcVQiCZbTryuKRRx4x/5EajUbS0tJYsmRJtwYm9E0KBYwZAwcPylcXgYH3d7zvb35PvbGeEW4j8HXy7ZogBUHosHYli1deeeWHHVQq/Pz8zL0bBeHHIiPh0CF5cEG9HuztO3eciroKTufJ9WUzA2Z2XYCCIHRYu25DTZ8+neDgYMrLyykpKUGlEvMGCC1zdJSHKzca5fGiOuvwjcMYTAZCB4UyxH5I1wUoCM1QKpVERkYSFhbGI488QllZmaVD6rDXXnuNt956q1uO3a5k8e677zJ+/Hg+//xzPv30UyZOnMiWLVu6JSChfxg3Tn48cwZMpo7vX1pTyrn8cyhQMCNgRtcGJwjNsLGx4fz586SkpODq6tprBvGTJAlTZ/6Iuli7ksVf/vIXkpOT2bZtG9u3b+fs2bP8+c9/7u7YhD5s+HBwdZUruq9d6/j+SbokTJKJiCERuNu6d32AgtCKSZMmkZubC9DiUOIFBQU8+uijREREEBERwbFjckOM//u//yMsLIywsDDefPNNAH7961+bx9gD+QrgjTfeAJof5lyn0xESEsLatWuJiooiOzu7xeHQ//SnPxEcHMysWbNIT0/vtp9Ju+4neXt7N+kR6ODggI+PT7cFJfR9CgWMHQvffCMPMNiRWfRuV93mYsFFlAolMf4x3Raj0Du9lvRalx2ryRDlMe07rtFo5MCBAzz77LMArFmzptmhxH/xi18wffp0/v3vf2M0GtHr9Zw9e5atW7dy8uRJJEliwoQJTJ8+nWXLlvHSSy+xdu1aAHbt2kViYmKLw5z7+vqSnp7O1q1b+fvf/97idnZ2dsTHx5OcnIzBYCAqKoqwsLAu+/ndrV3JYujQoUyYMIEFCxagUChISEhg/Pjx/N///R8AL7/8crcEJ/RtkZFyq6hr16C0VG5S2x6HdIeQkIjyjBJDkAs9pqamxjwceXR0NLNnz251KPGDBw+aR7dQKpU4OTnx/fff8+ijj2JnZwfAwoULOXLkCL/4xS8oLCwkLy+P27dv4+Ligq+vL2+99Vazw5z7+vri5+fHxIkTgZaHQ6+srOTRRx/F1tYWgLi4uG77+bQrWQwfPpzhw4ebXy9YsADAPIJiZxiNRsaOHcvQoUPZs2cPJSUlLF26FJ1Oh7+/P7t27cLlzqfL+vXree+991Aqlbz11lvM7c4xsIUuY2sLoaFw4YJcdzF7dtv73NLfIvV2KiorFVP9xBDkA1F7rwDaoyPjJDXWWZSXl/Pwww+zadMmnnrqqVaHEv+x1obaW7x4MZ9++im3bt1i2bJl5u2bG+Zcp9OZE05r27355ps91/dI6oCKigqpsrKyI7u06I033pAef/xx6aGHHpIkSZJ++ctfSuvXr5ckSZLWr18v/epXv5IkSZIuX74sjR49WqqtrZUyMzOlYcOGSQaDoc3jR0dHdzq2Q4cOdXrfvqq7ypydLUm/+50k/fnPktTQ0Pb2H178UPrdod9JX2V81S3x3E38P/ceqamp3XLcioqKdm9rZ2dnfn7u3DnJx8dHqq+vlyZNmiTt2rVLkiRJMplM0vnz5yVJkqSlS5dKf/3rXyVJkiSDwSCVl5dLZ8+elcLDw6WqqipJr9dLoaGh0rlz5yRJkqSUlBRp0qRJUlBQkJSXlydJkiR9/fXX0vjx482fqzk5OVJBQYGUlZUlhYaGmuNpabvG81VXV0sVFRVSYGCg9Mc//rHdZW7u597SZ2e7KrhTUlIYM2YMYWFhhIaGEh0dzeXLlzudoHJycti7dy+rV682r0tISGDVqlUArFq1it27d5vXL1u2DI1GQ0BAAIGBgZw6darT5xZ61tCh4OkJ1dVw6VLr2+ZV5pFenI7aSs0U3ymtbywI3WjMmDFEREQQHx/PBx98wHvvvUdERAShoaEkJCQAsHHjRg4dOkR4eLj5MzEqKoqnnnqK8ePHM2HCBFavXm2+dRQaGkplZSVDhw7F09MTkIc5X758OZMmTSI8PJzFixc3e8empe2ioqJYunQpkZGRLFq0iKlTu+9qvF1DlD/wwAP86U9/YsYMuQljUlIS//3f/22u/e+oxYsX81//9V9UVlby+uuvs2fPHpydnZu0a3ZxcaG0tJSf//znTJw4kZUrVwLw7LPPMn/+fPM8tnfbvHkzmzdvBuSE1DiBSEfp9XrsO9uTrI/qzjJfu2bH998PwsWlnri4PFq6av624Ftya3IJcwxjrOvYbonlbuL/ufdwcnIi8H67+zfDaDSiVCq7/Li9WUfKfO3aNcrLy5use+WVVzo/RHlVVZU5UQDExMRQVVXVrmB+bM+ePXh4eBAdHU1SUlKb2zeXy1q6R7dmzRrWrFkDyGOyd3bc/t465n936s4yT50KZWVyb24/vxEMG3bvNtnl2SQlJzFCOYK1E9diq7btlljuJv6fe4+0tLRumXdCzGfROq1Wa77yaUu7ksWwYcP4f//v/5lHmt25cycBAQHtOsGPHT16lC+++IJ9+/ZRW1tLRUUFK1euZPDgweTn5+Pp6Ul+fj4eHh6A3Gw3OzvbvH9OTg5eXl6dOrdgGUoljB8vt4w6fpxmk8Uh3SEAJnpP7JFEIQhCx7SrzmLLli3cvn2bhQsXsnDhQoqKiti6dWunTrh+/XpycnLQ6XTEx8czc+ZMdu7cSVxcHNu3bwdg+/bt5hZXcXFxxMfHU1dXR1ZWFhkZGYwfL6bU7GvGjgWVCjIyoKio6Xs3ym6QWZqJVqVlkvckywQoWFw77ogLXaijP+9Wryxqa2t55513uHbtGuHh4bzxxhuo1er7CrAlr776KkuWLOG9997D19fXPJF5aGgoS5YsYdSoUahUKjZt2jTg7kH2B7a2EBEBZ8/K068+/PAP7919VWGjtrFQhIIlabVaiouLcXNzE8PQ9wBJkiguLkar1bZ7n1aTxapVq1Cr1UydOpWvvvqKtLQ0c/f1rhATE2O+f+rm5saBAwea3W7dunWsW7euy84rWMbEiXKyuHABZs6UE0hWaRa6Mh1alZaJ3hMtHaJgId7e3uTk5HD79u0uPW5tbW2HPhD7g/aWWavVdmj08FaTRWpqKpfutHd89tlnxe0f4b4MGiTPb3HtGpw6BdOnS+arigd8HkCrGlh/1MIP1Gp1p+tBW5OUlNTuCtz+orvK3Gqdxd23nMSw5EJXaGwGfvIkpBVkcrP8JjYqGyYMnWDZwARBaFWrGeDChQs4OjoC8j2umpoaHB0dkSQJhUJBRUVFjwQp9B++vvJy46bEjsOH0HrAZN/JaFQaS4cmCEIrWk0WRqOxp+IQBgiFQr66SP7gGunXcoj1tGP8UHF7UxB6u3Y1nRWErjR8uESJ4yHq68G9ZjLWSmtLhyQIQhtEshB6XEbJVZy887DGnrLL4xAXsILQ+4lkIfQoSZJbQA0aBGFOU6gsV3PxoqWjEgShLSJZCD3qStEVbulv4ahx4ImZ8mCBSUlgMFg2LkEQWieShdBjGq8qAKb5TSNytAoPD3me7rNnLRycIAitEslC6DGXb1+msKoQJ40TYzzHoFDIPbkBjhyB+nrLxicIQstEshB6hEkycShLvqqY7j8dlZXcajs4WJ4gSa+Xe3ULgtA7iWQh9IiLBRcprinGRetCxOAI8/q7ry6OHoXaWgsFKAhCq0SyELqd0WTkO913AMT4x6C0kkcNNhqNVFVV4ePTgJ+fRE0NHD5syUgFQWiJGPBJ6HbJt5IpqSlB3aCm4FIBW7/aSllZGRUVFeYx9auqrLhwwZbLl72oq/MmLMwHPz8/rKzE9xlB6A1EshC6lb5az5YDW7iec53hdcM5xg/ztisUCmxsbGhoaMDOzoCrq55bt66ybdtVwsPBzs6OsLAwIiIixOyIgmBhIlkI3aK+vp5Tp07x4ZEPSa1LxR57htkPY9SoUQQFBeHm5oaTk5N5Iiuj0Uhubjmvv55LSUkukpRBVVUxJ0+e5OTJk/j5+TF16lSGDx8uJscRBAsQyULocjdv3uTzzz+nqKyIDDJwdnbmFzN+wYzRM1r8oFcqlfj6urJkiSv794czaNBcFizIJyXlIufPn+fGjRvcuHEDLy8vZs+e3S1zHwiC0DKRLIQuYzKZOHz4MN999x2SJFHtWk2IdwgR/hGtJoq7Nc6md/u2guxsL+bN82LGjBmcPn2a48ePk5eXx/bt2wkJCWHOnDm4uLj0QMkEQRC1h0KXqKmpYceOHSQlJQEwdtJY3CLdcHV1ZdawWe2+daRSwfz58vODB6G0FDQaDVOmTOGll14iNjYWtVpNWloamzZt4vDhw2IofUHoASJZCPetvLycLVu2oNPpcHBw4Mknn8Q60JoGUwNBrkH4Oft16HgjRkBYGDQ0wN69cKfBlHk++BdeeIHRo0djMBg4ePAg//rXv7h161Y3lEwQhEYiWQj3paCggHfffZfbt2/j4eHB6tWrcfV05VSu3B17ZsDMTh133jywsZHn674zDbyZo6MjCxcu5Mknn8TZ2Zlbt26xefNmvvvuO0wm0/0WSRCEZohkIXTarVu32LZtG5WVlfj5+fHMM8/g5OTEwayDGEwGwj3C8XTw7NSx7e1hzhz5eWIiVFffu82wYcNYu3YtEyZMwGQycejQIbZt20ZZWVnnCyUIQrNEshA6paioiPfff5+amhqCg4N54okn0Gq13NLf4mLBRZQKZaevKhpFRkJAgJwovvzyh9tRd7O2tmb+/Pk8+eSTODg4cPPmTf7xj3+QkpJyX+cWBKEpkSyEDistLWXHjh1UVVUxfPhwHnvsMVQquWHd/sz9SEiMGzoOF5v7a6mkUMCCBaDRQFoaJCe3vO2wYcN47rnnGDlyJHV1dXz66afs2bMHg5goQxC6hEgWQodUVVWxY8cOKioq8PPzY9myZeZEkVWaxbWSa2iUGqb5TeuS8zk7w8MPy8+/+gqKi1ve1tbWlqVLl/LQQw+hVCo5c+YM7777LiUlJV0SiyAMZCJZCO1mMBiIj4+ntLQULy8vli9fjlqtBuSJjb7N/BaAKb5TsFXbdtl5w8Nh9Gi5ddRnn9HqnN0KhYJx48axevVqXFxczJXf6enpXRaPIAxEIlkI7SJJErt37yY7OxsnJyeWL1+ORqMxv3+x4CJ5lXk4ahyZ6D2xy8//4IPyVUZeHnzzTdvbe3p68tOf/pSQkBBqa2v56KOPOHDggGgtJQidJJKF0C5JSUmkpKRgbW3N8uXLsbe3N79Xb6xnf+Z+AGIDYlEr1V1+fq0WFi0CpRJOnoQLF9qzj5YlS5Ywe/ZsFAoFR44cYefOnVRVVXV5fILQ34lkIbTp8uXLfPfddygUCh577DEGDx7c5P2jN49SWV/JUIehjB48utvi8PH5oXf3l19Cfn7b+ygUCiZPnsyqVauws7MjMzOTzZs3k5ub221xCkJ/JJKF0KrCwkISEhIAmDNnDkFBQU3eL68t52j2UQDmBs7t9hFho6MhKgoMBoiPh/ZeJPj7+/PTn/4Ub29vc4/zq1evdmusgtCfiGQhtKi2tpb4+Hjq6+sJDw9n4sR76yL2Z+7HYDIQOigUXyffbo9JoZDrL7y9obwcPvoI6uvbt6+joyNPP/0048aNw2g0cuzYMb744gvRvFYQ2qHHk0V2djYzZswgJCSE0NBQNm7cCEBJSQmzZ88mKCiI2bNnU1paat5n/fr1BAYGEhwczNdff93TIQ9IkiTx+eefU1JSwpAhQ4iLi7vnquFG2Q0uFV5CZaVi9vDZPRabSgVLl8oV3jk58Omn0N56a6VSyUMPPcSjjz6KUqnk3LlzbNmyhfLy8m6NWRD6uh5PFiqVijfeeIO0tDROnDjBpk2bSE1NZcOGDcTGxpKRkUFsbCwbNmwAIDU1lfj4eC5fvkxiYiJr164Vo4z2gCNHjnD16lVsbGxYunSpuYlsI6PJyN6MvYDcVNZZ69yj8Tk4wMqVYGsLV6+23MO7JRERETz44IM4OzuTl5fHP//5T65fv959AQtCH9fjycLT05OoqCgAHBwcCAkJITc3l4SEBFatWgXAqlWr2L17NwAJCQksW7YMjUZDQEAAgYGBnDp1qqfDHlAyMzM5dOgQCoWCRYsWNTtnxOm80xRWFeKidWGyz2QLRAnu7rB8OajVcu/ub7/tWMJwc3NjzZo1BAYGUl1dzc6dOzl8+LB5XnBBEH5g0cmPdDodycnJTJgwgYKCAjw95UHnPD09KSwsBCA3N7fJvXJvb+8WW7Js3ryZzZs3A5CTk2OeW6Gj9Hp9p/ftqxrLXFVVxZdffkltbS0RERHk5OSQk5PTZNtqQzX/zvs3DaYGhnsM5+iRoxaKWubra8OhQx7odArOny9n3LhS2lPPrtfrOXXqFF5eXhQVFXHhwgW2bNnCN998w9SpU5v0I+kvBtrv9kArL3RfmS2WLPR6PYsWLeLNN9/E0dGxxe2a+5bXUoubNWvWsGbNGgDGjh1LTExMp2JLSkrq9L59VVJSElOnTmX79u0MGTKEYcOGsXLlSqys7r34/Dztc4aqhhLsFszj4Y9bINp7jR8Pu3bJgw7W1cHcubSZMO7+f545cyYZGRl8/vnn1NTUkJqaymOPPYa3t3f3B9+DBtrv9kArL3RfmS3SGqqhoYFFixaxYsUKFi5cCMDgwYPJv9NwPj8/Hw8PD0C+ksjOzjbvm5OTg5eXV88HPQAcOHCAmzdv4ujoyKJFi5pNFNdLrnOx4CIqKxXzAudZIMrmBQfLld5KJZw4IddhdLRqKygoiJ/+9KcMHTqU8vJytm7dyokTJ8RtKUHAAslCkiSeffZZQkJCePnll83r4+Li2L59OwDbt29nwYIF5vXx8fHU1dWRlZVFRkYG48eP7+mw+70bN25w7NgxrKysWLx4MXZ2dvdsU2+s58urXwIQ4x9z36PKdrURI2DZMrm11LlzcrPaurqOHcPZ2ZlnnnmGCRMmYDQaSUxMJD4+npqamu4JWhD6iB5PFkePHuX999/n4MGDREZGEhkZyb59+3j11Vf59ttvCQoK4ttvv+XVV18FIDQ0lCVLljBq1CjmzZvHpk2bUCqVPR12v1ZSUsL3338PwOzZs/H1bb6/xMGsg5TVljHEfgiTvCf1ZIjtFhQETz0lt5K6dg22bYPKyo4dQ6lUMn/+fJYuXYpWqyU9PZ133nmHmzdvdkfIgtAn9HidxZQpU1q8rD9w4ECz69etW8e6deu6M6wBq6GhgV27dtHQ0EBISEizHe8AcipyOJlzEiuFFQuCF6C06r0J29sbVq+GnTvlIUH++U947DHw69hU4ISEhODp6cmnn35KTk4OW7duZdq0aUyfPr3ZW3SC0J+J3/gBTJIk9u7dy61bt3BwcGDBggXNNh4wmAx8kf4FEhKTvCd1eqrUnuTqCs8+C/7+oNfD9u1w7FjHmtaCfFvq6aefZsqUKQB89913bNmypUmnUUEYCESyGMDOnTvH+fPnUavVzJgxA61W2+x2B7MOUlhViJuNGzH+MT0b5H2ws4Mnn4TJk+Ue3t98I48npdd37DhKpZJZs2bx5JNP4ujoSE5ODv/4xz84e/asqPwWBgyRLAao3Nxc9u3bB8AjjzyCq6trs9vpynQczz6OlcKKR0Me7Zbhx7uTlRXMni23lNJqIT0d/vEPuHKl48cKCAjgueeeIzQ0lPr6er788ks+/PBDKjtaKSIIfZBIFgNQVVUVu3btwmg0Mn78eEaPbn5Y8VpDLf9O+zcSEtP8puHt2Hf7HISEwHPPwbBh8ki18fHw3XfuHa78trGxYfHixSxatAgbGxsyMjL4+9//zvnz58VVhtCviWQxwBiNRnbt2kV5eTk+Pj7MnTu3xW33Xt1LeV05Qx2GMtV3ag9G2T2cnOCJJ+Q5MdRqyMqy529/kydT6sgEegqFgvDwcNauXUtQUBA1NTXs3r2bDz74QAxIKPRbIlkMIJIksW/fPm7cuIGDgwNLlixpsRlycn4ylwovobZSszBkYa9u/dQRCgVMmABr14K3dzV1dfDVV/DOO/KAhB25OHBwcGD58uU8+uij2NjYcO3aNTZt2sTx48fF9K1CvyOSxQBy+vRpzp49i0ql4vHHH8fBwaHZ7W7pb5lHlH1oxEO42br1ZJg9wsUFZs0q5PHH5aHOCwvhww/lfhkd6U6hUCiIiIjg+eefZ9SoUdTX1/P111+zefPme8bUEoS+TCSLAeLatWskJiYCsGDBghaHTKk11PJxyscYTAaiPKOIHBLZg1H2vOBg+PnPYd48uSPfjRuwZYucNK5fb/+Vhr29PUuWLGH58uU4Oztz69Yt3n33XRISEsSc30K/YNFRZ4WekZ+fz65duzCZTEydOpXw8PBmt5Mkid1XdlNaW4qnvScPBj3Yw5FahkoFEydCZCQcPy7XYeh08uLpKd+2CguTt2vLiBEj8Pf35/Dhwxw/fpzk5GTS0tKIiYlh3LhxYvQBoc8SyaKfKysr44MPPjBPjTpz5swWtz2kO8SVoitoVVqWhC5BZTWwfj20WpgxAyZNgjNn5MSRnw+7d8t9NMaMkRd399aPY21tzaxZs4iMjCQxMdF8VXf69GlmzZrFyJEju32uckHoagPr02CAqamp4YMPPkCv1xMQENBiD22Aa/pr5NzIwUphxeJRi3vdIIE9SauFKVPkq42UFPlKIz8fjh6VFx8fiIiQm+M2M96imbu7OytWrODq1at88803FBcX8/HHH+Pr68usWbNaHINLEHojkSz6qdraWt5//31u376Nh4cHS5cuRdXCfRRdmY5jxcfwtfflwaAHCXQN7OFoeyeVSr41FREhz/WdnCwnj+xsedm3DwICYNQoecTb5toLKBQKgoODCQwM5OzZsyQlJXHz5k22bNlCUFAQsbGxDBkypMfLJggdJZJFP1RfX8+HH35IXl4eLi4urFy5ssWhPAr0BXyc8jEmycQk70mM9Rrbw9H2fgqFfDXh4yNXhKelyUnj+vUfFgAvLzlpDB8OQ4fKvccbKZVKcwfI48ePc/z4cTIyMsjIyCAkJIRp06aZZ4oUhN5IJIt+pqGhgY8++oibN2/i5OTEqlWrWpyJsKi6iB0XdlBjqMHX1pfZw2f3cLR9j7W1fKURESHPynflijyESGYm5OXJS1ISaDTyIIZ+fvLjkCFy8tBqtcyYMYPx48fz/fffc/r0adLS0khLSyM4OJgpU6bg4+Nj4VIKwr1EsuhH6urq+PDDD82d7p588kmcnZ2b3bakpoTt57dT1VDFcJfheEleWClES+qOsLWFqCh5aWiQE0bjlUZxsZxE0tPlba2t5SsPb2/5qsPT0445c+YyefJkjh49ypkzZ0hPTyc9PR1fX18mT57MiBEjREW40GuIZNFPVFVVsXPnTvLz83F0dOSJJ57Aza35znSlNaXsuLCDyvpK/Jz8WBa2jKNHjvZwxP2LWi332QgOll+Xlcl9NnQ6+bGk5IfmuI1sbMDT0x4Pj7nMmDGFnJyTXL16ips3b3Lz5k1cXV0ZP348Y8aMQaPR9HyhBOEuIln0A+Xl5bz//vsUFRXh6ura6hXFLf0tdl7cib5ej7ejN8vDl/e5kWT7AmdneYmIkF9XVcmV5Dk58q2q/Hz5NlZmpryAHTATg2EyFRXnKC4+iSSVcOFCIk5Oh4iOHs3UqdH4+orKcMEyRLLo427evMnHH39MVVUVgwcP5oknnsDe3r7ZbXVlOj669BF1xjqGuQxjaehSNCrxjbUn2Nk1vfKQJKiogFu35KFGCgrkx5ISDSrVJFxcJlBUlE5OzgmuX7/BuXOn+de/TuPu7k1w8BhCQsJwd9fg4ACOjvJiby8v4iJE6A4iWfRhycnJ7NmzB6PRyPDhw1m8eDE2NjbNbnux4CJfpH+BwWRg1KBRLAxZOOA63fUmCoU8Cq6T0w8JBOTRb8vKoLjYiuLiEEpKQsjKKuTSpTNcv36BoqIciopyOH48kUGDQhg8eDQuLsNQ3FXfZG0tJ6e7F1tbecnIsMfTU74FptX+8KhSyTEJQkvEp0Uf1NDQwNdff82ZM2cAmDBhAnPnzm12Xmijyci3md9yIucEAOO8xjE/aL6ozO6lrKzkKWFdXSEoqHGtB/AgdXWzOHMmlZMnz3Ptmo66uouUlFyktNQeN7dQnJ1DUal8qK9XUF8Pzc38qtO5k5t773qlUk4aWq18ZXL3Ym1976JW//B496JSNX0upirvP0Sy6GMKCgr49NNPuX37NkqlkgcffJDo6Ohmt62sq+SztM/QlelQKpTMD5pPtGe0aGHTR2k01kyeHMnkyZGUlJRw8eJFLl26RHFxMXASOIlW60BQUAje3iNxdfWjtlZJdbVcP1JVBUqlnuHD5de1tfJSUwNGo/x+V495aGUlJ43GRals+fHuxcqq7ce2FoUCbt605epV+Xnjuh8//vj5j5e734OWt/vx+209v/uxLxDJoo8wGo0cP36cpKQkDAYD7u7uLF68uMXevymFKey9upcaQw321vYsDV2Kj5Nov99fuLq6EhMTw/Tp08nPzyclJYXU1FTKyspITj5FcvIptFotgYGBBAUFERUViJ2dHVptETEx9x7PYPghedTVNV3q65tfGhqaXwyGHx5Nph+2twSdzuNOA4Le6+6E0VIyac82jc8zM33w9ZVnhexKIln0AdnZ2Xz55ZcUFhYCEB0dzbx581Cr723FVFVfxVfXviKlMAWAINcg4oLjcNA0P3eF0LcpFAq8vLzw8vJi9uzZ5Ofnk5aWRnp6OoWFhaSkpJCSkoJCocDT05PKykr8/Pzw8fFpMvyLSvVDBXlXkSQ5WRgM8mI0yknEaJSXxnV3vzaZmq67+7XJ9MPrxuetLZIERmM1I0Y0Xdf4+OPnzb2+e31jmVpb7t6mred3/5yae95ZdXXKDs382F4iWfRiZWVlHDp0iAsXLgDyt8mHHnqI4cOH37Ot0WTkdN5pknRJ1BpqsVZaM3f4XKI8o8RtpwHi7sQRGxtLSUkJV69e5dq1a+h0OvLy8tDpdFRWVqJSqfD29sbf3x8/Pz+8vb2b/fJxf/H8cFvJUi20Bg8uJCZmlGVO3obmkkRbj+1Zd/jwTQIC/Ls8XpEseiG9Xm8eCsJoNKJUKnnggQeYNm3aPX/QkiSRXpzOgcwD3K6+DchXE/OD5uNq42qJ8IVewtXVlYkTJzJx4kQaGhrQ6XTs3r0bBwcHbt26hU6nQ3enl6CVlRWenp74+Pjg7e3N0KFDcXZ2Fl80ulFzt5a6glZrojumTRHJohcpKiri+PHjXLhwAYPBgEKhYPTo0cyYMQMXl6ZDhjcmiSRdErf0twBwtXFlXuA8glyDxB+50IRarSYoKIhx48YRExNDVVUVN2/eRKfTcePGDQoKCsjNzSX3rqZStra2eHp6mpchQ4bg6uoqfrcGKJEsLMxgMJCens65c+fIzMxEkiQUCgUjR44kJibmngrsWkMt52+d53TuaYprigFwsHZgiu8Uor2iRd8JoV3s7OwICQkhJCQEkMcVy83NJTs725w0qqqquH79Otcbh9VFTjqDBw/Gw8ODQYMG4eHhgbu7O46OjiKJ9HPik8UCjEYjWVlZpKWlkZqaSk1NDQAqlYqIiAgmTZqE+13TsZkkE1mlWVwqvETq7VTqjXLTEkeNI5N9JhPlGSWG7BDui0ajYdiwYQy704RGkiTKy8vJz883LwUFBVRUVJCTk0NOTk6T/a2trXFzc8PNzQ1XV1fc3NxwcXHBxcUFe3t7kUj6AZEsekh5eTmZmZlcv36da9euUVtba35vyJAhREVFER4ebu6B3WBsIKssi6vFV7lSdAV9vd68vb+zPxOGTiDYPVh0rhO6hUKhwNnZGWdnZ/PVB0B1dTUFBQXcvn2b27dvU1hYSFFREVVVVeak8mNqtRpnZ2ecnJzMj05OTjg6OuLo6IiDg0OXV64LXU8ki27Q0NBAYWEheXl5ZGdnk52dTemPutN6eHgQEhLCqFGjGDx4MAaTgbzKPHSFOm6U3eBm+U0aTA3m7V1tXAn3CGf04NG42TY/mqwgdDdbW1sCAgIICAhosr6mpoaioiKKi4spKSmhpKSE0tJSSktLqa6uNieXltjY2ODg4IC9vb350c7ODjs7O+zt7bG1tcXOzg5bW9sWZ3wUupf4qXeSJEnU1NRQWlpKSUmJ+Q+l8ZuW6UcNnTUaDf7+/gwfPhwvPy+MGiOFVYWcKjtFXnYeBVUFmKSm+3g5eDHCbQQj3Ebgae8pLuWFXsvGxgYfH59mJ26qra2lvLycsrIyysrKKC8vp6KiwvxYWVlJTU0NNTU15r5ErbG2tsbW1hYbG5t7Fq1Wi1arRaPRoNVqzUlKo9Gg0WiwtrYWf0ed1GeSRWJiIi+++CJGo5HVq1fz6quvdvk5JEmivr4evV5Pfn4+1dXVVFdXU1VVRVVVFZWVlVRWVpp/0eub6ZYqIWFUGLF3s8fR3RGHQQ7YutiCDZTVlvFdzXdUpd07poICBR52Hvg5+eHv7I+fsx/21l3YQ0oQLKTxA3zw4MHNvi9JEtXV1ea/L71ej16vp6qqyvzY+HdYXV1NfX099fX1lJWVtXlunU7H5cuXm6yztrbG2tranDzUavU9jz9eVCqV+bG1RalUolQqzc+bG6+tr+oTycJoNPL888/z7bff4u3tzbhx44iLi2PUqK7tbFNeXs5f3vwLWTeyOHzmMKY7/4x3/TNgMD8q1Ao0dhrUtmqsba1R2iix0lihsdFQq6yllloKKYRK5OUOtZUaDzsP8+Ll4IWngyfWSusuLY8g9AUKhcJ8y6ml4WsaSZJEXV0dNTU1VFdXm69IampqqK2tvWfR6/W4u7tTV1dHXV2dOdE0finsibI1JpC7FysrqybPG183Pm9pnUKhaPW5QqHg4sWLhIeHtzj5WWf1iWRx6tQpAgMDzS01li1bRkJCQpcnC6PSyAnlCSoGVVBhX2H+NnH3tw6tRmu+pFWpVM1e0mqUGhw0Dthb2+OsdcZJ44ST1glXG1dcbVxxsHYQl8KC0AkKhcJ8pfLjvkfNSUpKIuauwbAa7x7U1dXR0NDQJHk0vm5oaGh2MRgMGAwGGhoaMBqN9zw3GAwYjUbza6PRiCRJ5vd6ik6n4+GHHx6YySI3N7fJvVBvb29Onjx5z3abN29m8+bNAOTk5JCUlNSh89Sb6hnuNxxjgxFbjS1KhRK1ldr8qFKosMYadb0atUGNtZU1GisN1lbWaJVatEotGisNatRQjbzcUXHnnw5dJ34C3U+v13f459XXiTL3f/db3sbbSy3NE9MWk8lkXoxGY5PXP14kSWr2sfF5c+/fvTSuGzFiBKmpqfc0b75ffSJZSM2MrtXcN/M1a9awZs0aAMaOHdvkG0V7zWHOPd9GBgJR5oFhoJV5oJUXuq/MfaL2xdvbm+zsbPPrnJwcvLy8LBiRIAjCwNInksW4cePIyMggKyuL+vp64uPjiYuLs3RYgiAIA0afuA2lUqn429/+xty5czEajTzzzDOEhoZaOixBEIQBo08kC4AHH3yQBx980NJhCIIgDEh94jaUIAiCYFkiWQiCIAhtEslCEARBaJNIFoIgCEKbFFJzPd76AXd3d/z9/Tu17+3btxk0aFDXBtTLiTIPDAOtzAOtvHD/ZdbpdBQVFd2zvt8mi/sxduxYzpw5Y+kwepQo88Aw0Mo80MoL3VdmcRtKEARBaJNIFoIgCEKbRLJoRuNghAOJKPPAMNDKPNDKC91XZlFnIQiCILRJXFkIgiAIbRLJQhAEQWiTSBZ3SUxMJDg4mMDAQDZs2GDpcLpFdnY2M2bMICQkhNDQUDZu3AhASUkJs2fPJigoiNmzZ1NaWmrhSLue0WhkzJgxPPzww0D/L3NZWRmLFy9m5MiRhISEcPz48X5f5r/+9a+EhoYSFhbG448/Tm1tbb8r8zPPPIOHhwdhYWHmda2Vcf369QQGBhIcHMzXX3/d6fOKZHGH0Wjk+eef56uvviI1NZWPPvqI1NRUS4fV5VQqFW+88QZpaWmcOHGCTZs2kZqayoYNG4iNjSUjI4PY2Nh+mSw3btxISEiI+XV/L/OLL77IvHnzuHLlChcuXCAkJKRflzk3N5e33nqLM2fOkJKSgtFoJD4+vt+V+amnniIxMbHJupbKmJqaSnx8PJcvXyYxMZG1a9diNBo7d2JJkCRJko4dOybNmTPH/Pp//ud/pP/5n/+xYEQ9Iy4uTvrmm2+kESNGSHl5eZIkSVJeXp40YsQIC0fWtbKzs6WZM2dKBw4ckB566CFJkqR+Xeby8nLJ399fMplMTdb35zLn5ORI3t7eUnFxsdTQ0CA99NBD0tdff90vy5yVlSWFhoaaX7dUxh9/js2ZM0c6duxYp84prizuyM3NxcfHx/za29ub3NxcC0bU/XQ6HcnJyUyYMIGCggI8PT0B8PT0pLCw0MLRda2XXnqJ//3f/8XK6odf+f5c5szMTAYNGsTTTz/NmDFjWL16NVVVVf26zEOHDuWVV17B19cXT09PnJycmDNnTr8uc6OWytiVn2siWdwhNdOCWKFQWCCSnqHX61m0aBFvvvkmjo6Olg6nW+3ZswcPDw+io6MtHUqPMRgMnDt3jueee47k5GTs7Oz6/O2XtpSWlpKQkEBWVhZ5eXlUVVWxc+dOS4dlUV35uSaSxR3e3t5kZ2ebX+fk5ODl5WXBiLpPQ0MDixYtYsWKFSxcuBCAwYMHk5+fD0B+fj4eHh6WDLFLHT16lC+++AJ/f3+WLVvGwYMHWblyZb8us7e3N97e3kyYMAGAxYsXc+7cuX5d5v379xMQEMCgQYNQq9UsXLiQY8eO9esyN2qpjF35uSaSxR3jxo0jIyODrKws6uvriY+PJy4uztJhdTlJknj22WcJCQnh5ZdfNq+Pi4tj+/btAGzfvp0FCxZYKsQut379enJyctDpdMTHxzNz5kx27tzZr8s8ZMgQfHx8SE9PB+DAgQOMGjWqX5fZ19eXEydOUF1djSRJHDhwgJCQkH5d5kYtlTEuLo74+Hjq6urIysoiIyOD8ePHd+4knaxf6Zf27t0rBQUFScOGDZP++Mc/WjqcbnHkyBEJkMLDw6WIiAgpIiJC2rt3r1RUVCTNnDlTCgwMlGbOnCkVFxdbOtRucejQIXMFd38vc3JyshQdHS2Fh4dLCxYskEpKSvp9mX/7299KwcHBUmhoqLRy5Uqptra235V52bJl0pAhQySVSiUNHTpUevfdd1st4x//+Edp2LBh0ogRI6R9+/Z1+rxiuA9BEAShTeI2lCAIgtAmkSwEQRCENolkIQiCILRJJAtBEAShTSJZCIIgCG0SyUIY0IqLi4mMjCQyMpIhQ4YwdOhQIiMjsbe3Z+3atV1+vqeeeoqAgADeeeedZt+3t7fv0vPNmDEDe3t7zpw506XHFQYelaUDEARLcnNz4/z58wC89tpr2Nvb88orr3TrOf/yl7+wePHibj1Ho0OHDhETE9Mj5xL6N3FlIQjNSEpKMs978dprr7Fq1SrmzJmDv78/n3/+Ob/61a8IDw9n3rx5NDQ0AHD27FmmT59OdHQ0c+fONQ+/0JqsrCwmTZrEuHHj+M1vfmNer9friY2NJSoqivDwcBISEgD4zW9+Y56DBGDdunW89dZb5OfnM23aNCIjIwkLC+PIkSNd+eMQBJEsBKE9rl+/zt69e0lISGDlypXMmDGDS5cuYWNjw969e2loaOCFF17g008/5ezZszzzzDOsW7euzeO++OKLPPfcc5w+fZohQ4aY12u1Wv79739z7tw5Dh06xH/+53+ah2ppHNbBZDIRHx/PihUr+PDDD5k7dy7nz5/nwoULREZGdtePQhigxG0oQWiH+fPno1arCQ8Px2g0Mm/ePADCw8PR6XSkp6eTkpLC7NmzAXkyrcYho1tz9OhRPvvsMwCeeOIJfv3rXwPyGF7//d//zeHDh7GysiI3N5eCggL8/f1xc3MjOTmZgoICxowZg5ubG+PGjeOZZ56hoaGB//iP/xDJQuhyIlkIQjtoNBoArKysUKvV5mGeraysMBgMSJJEaGgox48f7/Cxmxsy+oMPPuD27ducPXsWtVqNv78/tbW1AKxevZpt27Zx69YtnnnmGQCmTZvG4cOH2bt3L0888QS//OUvefLJJztbXEG4h7gNJQhdIDg4mNu3b5uTRUNDA5cvX25zv8mTJxMfHw/ICaJReXk5Hh4eqNVqDh06xI0bN8zvPfrooyQmJnL69Gnmzp0LwI0bN/Dw8OAnP/kJzz77LOfOnevK4gmCuLIQhK5gbW3Np59+yi9+8QvKy8sxGAy89NJLhIaGtrrfxo0bWb58ORs3bmTRokXm9StWrOCRRx5h7NixREZGMnLkyCbnmjFjBs7OziiVSkCukP/LX/6CWq3G3t6eHTt2dE9BhQFLjDorCD3oqaee4uGHH76vprMmk4moqCg++eQTgoKC2tw+JiaG119/nbFjx3b6nIIgbkMJQg9ycnLiN7/5TYud8tqSmppKYGAgsbGx7UoUM2bMIDMzE7Va3anzCUIjcWUhCIIgtElcWQiCIAhtEslCEARBaJNIFoIgCEKbRLIQBEEQ2iSShSAIgtCm/w+q4R3QtkXk5AAAAABJRU5ErkJggg==\n",
      "text/plain": [
       "<Figure size 432x288 with 1 Axes>"
      ]
     },
     "metadata": {},
     "output_type": "display_data"
    }
   ],
   "source": [
    "# Total population, N.\n",
    "N = 1000\n",
    "I0 = 5\n",
    "R0 = 0\n",
    "S0 = N - I0 - R0\n",
    "\n",
    "# Contact rate, beta, and mean recovery rate, gamma, (in 1/days).\n",
    "a = 0.3\n",
    "b = 0.1\n",
    "\n",
    "# A grid of time points (in days)\n",
    "T = 100\n",
    "dt = 1\n",
    "Nt = np.int(T/dt)+1\n",
    "t = np.linspace(0, T, Nt)\n",
    "\n",
    "# Initial conditions vector\n",
    "Y0 = S0, I0, R0\n",
    "\n",
    "# Integrate the SIR equations over the time grid, t.\n",
    "sol = odeint(SIRdot, Y0, t, args=(N, a, b))\n",
    "S, I, R = sol.T\n",
    "\n",
    "# Plot the data on three separate curves for S(t), I(t) and R(t)\n",
    "fig = plt.figure(facecolor='w')\n",
    "plt.plot(t, S, 'b', alpha=0.5, lw=2, label='Susceptible')\n",
    "plt.plot(t, I, 'k', alpha=0.5, lw=2, label='Infected')\n",
    "plt.plot(t, R, 'g', alpha=0.5, lw=2, label='Recovered')\n",
    "plt.xlabel('Time [days]')\n",
    "plt.ylabel('Population')\n",
    "#plt.ylim(0,1.2)\n",
    "plt.grid() \n",
    "plt.legend()\n"
   ]
  },
  {
   "cell_type": "markdown",
   "metadata": {},
   "source": [
    "Reproduction number: $Ro = \\frac{aS(0)}{bN}$"
   ]
  },
  {
   "cell_type": "code",
   "execution_count": 9,
   "metadata": {},
   "outputs": [
    {
     "data": {
      "text/plain": [
       "2.985"
      ]
     },
     "execution_count": 9,
     "metadata": {},
     "output_type": "execute_result"
    }
   ],
   "source": [
    "a*Y0[0]/(b*N) #reproduction number"
   ]
  },
  {
   "cell_type": "markdown",
   "metadata": {},
   
